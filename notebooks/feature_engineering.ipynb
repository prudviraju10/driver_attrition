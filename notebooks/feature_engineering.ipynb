{
 "cells": [
  {
   "cell_type": "code",
   "execution_count": 22,
   "metadata": {},
   "outputs": [],
   "source": [
    "import pandas as pd\n",
    "import numpy as np\n",
    "import matplotlib.pyplot as plt\n",
    "import seaborn as sns\n",
    "%matplotlib inline\n",
    "import warnings\n",
    "warnings.filterwarnings(\"ignore\")"
   ]
  },
  {
   "cell_type": "code",
   "execution_count": 23,
   "metadata": {},
   "outputs": [],
   "source": [
    "df = pd.read_excel(\"../data/data_preprocessed.xlsx\")"
   ]
  },
  {
   "cell_type": "code",
   "execution_count": 24,
   "metadata": {},
   "outputs": [
    {
     "data": {
      "text/html": [
       "<div>\n",
       "<style scoped>\n",
       "    .dataframe tbody tr th:only-of-type {\n",
       "        vertical-align: middle;\n",
       "    }\n",
       "\n",
       "    .dataframe tbody tr th {\n",
       "        vertical-align: top;\n",
       "    }\n",
       "\n",
       "    .dataframe thead th {\n",
       "        text-align: right;\n",
       "    }\n",
       "</style>\n",
       "<table border=\"1\" class=\"dataframe\">\n",
       "  <thead>\n",
       "    <tr style=\"text-align: right;\">\n",
       "      <th></th>\n",
       "      <th>Driver_ID</th>\n",
       "      <th>Age</th>\n",
       "      <th>Gender</th>\n",
       "      <th>City</th>\n",
       "      <th>Education_Level</th>\n",
       "      <th>Income</th>\n",
       "      <th>Dateofjoining</th>\n",
       "      <th>LastWorkingDate</th>\n",
       "      <th>Joining Designation</th>\n",
       "      <th>Grade</th>\n",
       "      <th>Total Business Value</th>\n",
       "      <th>Quarterly Rating</th>\n",
       "      <th>Grade_change</th>\n",
       "      <th>Income_change</th>\n",
       "      <th>Quaterly_rating_change</th>\n",
       "      <th>target</th>\n",
       "    </tr>\n",
       "  </thead>\n",
       "  <tbody>\n",
       "    <tr>\n",
       "      <th>0</th>\n",
       "      <td>1</td>\n",
       "      <td>28</td>\n",
       "      <td>0</td>\n",
       "      <td>C23</td>\n",
       "      <td>2</td>\n",
       "      <td>57387.0</td>\n",
       "      <td>24/12/18</td>\n",
       "      <td>03/11/19</td>\n",
       "      <td>1</td>\n",
       "      <td>1</td>\n",
       "      <td>571860.0</td>\n",
       "      <td>2</td>\n",
       "      <td>1</td>\n",
       "      <td>1</td>\n",
       "      <td>1</td>\n",
       "      <td>1</td>\n",
       "    </tr>\n",
       "    <tr>\n",
       "      <th>1</th>\n",
       "      <td>2</td>\n",
       "      <td>31</td>\n",
       "      <td>0</td>\n",
       "      <td>C7</td>\n",
       "      <td>2</td>\n",
       "      <td>67016.0</td>\n",
       "      <td>11/06/20</td>\n",
       "      <td>NaN</td>\n",
       "      <td>2</td>\n",
       "      <td>2</td>\n",
       "      <td>0.0</td>\n",
       "      <td>1</td>\n",
       "      <td>1</td>\n",
       "      <td>1</td>\n",
       "      <td>1</td>\n",
       "      <td>0</td>\n",
       "    </tr>\n",
       "    <tr>\n",
       "      <th>2</th>\n",
       "      <td>4</td>\n",
       "      <td>43</td>\n",
       "      <td>0</td>\n",
       "      <td>C13</td>\n",
       "      <td>2</td>\n",
       "      <td>65603.0</td>\n",
       "      <td>12/07/19</td>\n",
       "      <td>27/04/20</td>\n",
       "      <td>2</td>\n",
       "      <td>2</td>\n",
       "      <td>70000.0</td>\n",
       "      <td>1</td>\n",
       "      <td>1</td>\n",
       "      <td>1</td>\n",
       "      <td>1</td>\n",
       "      <td>1</td>\n",
       "    </tr>\n",
       "    <tr>\n",
       "      <th>3</th>\n",
       "      <td>5</td>\n",
       "      <td>29</td>\n",
       "      <td>0</td>\n",
       "      <td>C9</td>\n",
       "      <td>0</td>\n",
       "      <td>46368.0</td>\n",
       "      <td>01/09/19</td>\n",
       "      <td>03/07/19</td>\n",
       "      <td>1</td>\n",
       "      <td>1</td>\n",
       "      <td>40120.0</td>\n",
       "      <td>1</td>\n",
       "      <td>1</td>\n",
       "      <td>1</td>\n",
       "      <td>1</td>\n",
       "      <td>1</td>\n",
       "    </tr>\n",
       "    <tr>\n",
       "      <th>4</th>\n",
       "      <td>6</td>\n",
       "      <td>31</td>\n",
       "      <td>1</td>\n",
       "      <td>C11</td>\n",
       "      <td>1</td>\n",
       "      <td>78728.0</td>\n",
       "      <td>31/07/20</td>\n",
       "      <td>NaN</td>\n",
       "      <td>3</td>\n",
       "      <td>3</td>\n",
       "      <td>253000.0</td>\n",
       "      <td>2</td>\n",
       "      <td>1</td>\n",
       "      <td>1</td>\n",
       "      <td>2</td>\n",
       "      <td>0</td>\n",
       "    </tr>\n",
       "  </tbody>\n",
       "</table>\n",
       "</div>"
      ],
      "text/plain": [
       "   Driver_ID  Age  Gender City  Education_Level   Income Dateofjoining  \\\n",
       "0          1   28       0  C23                2  57387.0      24/12/18   \n",
       "1          2   31       0   C7                2  67016.0      11/06/20   \n",
       "2          4   43       0  C13                2  65603.0      12/07/19   \n",
       "3          5   29       0   C9                0  46368.0      01/09/19   \n",
       "4          6   31       1  C11                1  78728.0      31/07/20   \n",
       "\n",
       "  LastWorkingDate  Joining Designation  Grade  Total Business Value  \\\n",
       "0        03/11/19                    1      1              571860.0   \n",
       "1             NaN                    2      2                   0.0   \n",
       "2        27/04/20                    2      2               70000.0   \n",
       "3        03/07/19                    1      1               40120.0   \n",
       "4             NaN                    3      3              253000.0   \n",
       "\n",
       "   Quarterly Rating  Grade_change  Income_change  Quaterly_rating_change  \\\n",
       "0                 2             1              1                       1   \n",
       "1                 1             1              1                       1   \n",
       "2                 1             1              1                       1   \n",
       "3                 1             1              1                       1   \n",
       "4                 2             1              1                       2   \n",
       "\n",
       "   target  \n",
       "0       1  \n",
       "1       0  \n",
       "2       1  \n",
       "3       1  \n",
       "4       0  "
      ]
     },
     "execution_count": 24,
     "metadata": {},
     "output_type": "execute_result"
    }
   ],
   "source": [
    "df.head()"
   ]
  },
  {
   "cell_type": "code",
   "execution_count": 25,
   "metadata": {},
   "outputs": [
    {
     "name": "stdout",
     "output_type": "stream",
     "text": [
      "<class 'pandas.core.frame.DataFrame'>\n",
      "RangeIndex: 2381 entries, 0 to 2380\n",
      "Data columns (total 16 columns):\n",
      " #   Column                  Non-Null Count  Dtype  \n",
      "---  ------                  --------------  -----  \n",
      " 0   Driver_ID               2381 non-null   int64  \n",
      " 1   Age                     2381 non-null   int64  \n",
      " 2   Gender                  2381 non-null   int64  \n",
      " 3   City                    2381 non-null   object \n",
      " 4   Education_Level         2381 non-null   int64  \n",
      " 5   Income                  2381 non-null   float64\n",
      " 6   Dateofjoining           2381 non-null   object \n",
      " 7   LastWorkingDate         1616 non-null   object \n",
      " 8   Joining Designation     2381 non-null   int64  \n",
      " 9   Grade                   2381 non-null   int64  \n",
      " 10  Total Business Value    2381 non-null   float64\n",
      " 11  Quarterly Rating        2381 non-null   int64  \n",
      " 12  Grade_change            2381 non-null   int64  \n",
      " 13  Income_change           2381 non-null   int64  \n",
      " 14  Quaterly_rating_change  2381 non-null   int64  \n",
      " 15  target                  2381 non-null   int64  \n",
      "dtypes: float64(2), int64(11), object(3)\n",
      "memory usage: 297.8+ KB\n"
     ]
    }
   ],
   "source": [
    "df.info()"
   ]
  },
  {
   "cell_type": "code",
   "execution_count": 26,
   "metadata": {},
   "outputs": [
    {
     "data": {
      "text/plain": [
       "Driver_ID                   0\n",
       "Age                         0\n",
       "Gender                      0\n",
       "City                        0\n",
       "Education_Level             0\n",
       "Income                      0\n",
       "Dateofjoining               0\n",
       "LastWorkingDate           765\n",
       "Joining Designation         0\n",
       "Grade                       0\n",
       "Total Business Value        0\n",
       "Quarterly Rating            0\n",
       "Grade_change                0\n",
       "Income_change               0\n",
       "Quaterly_rating_change      0\n",
       "target                      0\n",
       "dtype: int64"
      ]
     },
     "execution_count": 26,
     "metadata": {},
     "output_type": "execute_result"
    }
   ],
   "source": [
    "df.isna().sum()"
   ]
  },
  {
   "cell_type": "code",
   "execution_count": 27,
   "metadata": {},
   "outputs": [],
   "source": [
    "df[\"City\"] = df[\"City\"].apply(lambda x: int(x[1:]))"
   ]
  },
  {
   "cell_type": "code",
   "execution_count": 28,
   "metadata": {},
   "outputs": [],
   "source": [
    "df[\"Dateofjoining\"] = pd.to_datetime(df[\"Dateofjoining\"])\n",
    "df[\"LastWorkingDate\"] = pd.to_datetime(df[\"LastWorkingDate\"])"
   ]
  },
  {
   "cell_type": "code",
   "execution_count": 29,
   "metadata": {},
   "outputs": [
    {
     "name": "stdout",
     "output_type": "stream",
     "text": [
      "<class 'pandas.core.frame.DataFrame'>\n",
      "RangeIndex: 2381 entries, 0 to 2380\n",
      "Data columns (total 16 columns):\n",
      " #   Column                  Non-Null Count  Dtype         \n",
      "---  ------                  --------------  -----         \n",
      " 0   Driver_ID               2381 non-null   int64         \n",
      " 1   Age                     2381 non-null   int64         \n",
      " 2   Gender                  2381 non-null   int64         \n",
      " 3   City                    2381 non-null   int64         \n",
      " 4   Education_Level         2381 non-null   int64         \n",
      " 5   Income                  2381 non-null   float64       \n",
      " 6   Dateofjoining           2381 non-null   datetime64[ns]\n",
      " 7   LastWorkingDate         1616 non-null   datetime64[ns]\n",
      " 8   Joining Designation     2381 non-null   int64         \n",
      " 9   Grade                   2381 non-null   int64         \n",
      " 10  Total Business Value    2381 non-null   float64       \n",
      " 11  Quarterly Rating        2381 non-null   int64         \n",
      " 12  Grade_change            2381 non-null   int64         \n",
      " 13  Income_change           2381 non-null   int64         \n",
      " 14  Quaterly_rating_change  2381 non-null   int64         \n",
      " 15  target                  2381 non-null   int64         \n",
      "dtypes: datetime64[ns](2), float64(2), int64(12)\n",
      "memory usage: 297.8 KB\n"
     ]
    }
   ],
   "source": [
    "df.info()"
   ]
  },
  {
   "cell_type": "code",
   "execution_count": 30,
   "metadata": {},
   "outputs": [
    {
     "data": {
      "text/plain": [
       "Driver_ID                   0\n",
       "Age                         0\n",
       "Gender                      0\n",
       "City                        0\n",
       "Education_Level             0\n",
       "Income                      0\n",
       "Dateofjoining               0\n",
       "LastWorkingDate           765\n",
       "Joining Designation         0\n",
       "Grade                       0\n",
       "Total Business Value        0\n",
       "Quarterly Rating            0\n",
       "Grade_change                0\n",
       "Income_change               0\n",
       "Quaterly_rating_change      0\n",
       "target                      0\n",
       "dtype: int64"
      ]
     },
     "execution_count": 30,
     "metadata": {},
     "output_type": "execute_result"
    }
   ],
   "source": [
    "df.isna().sum()"
   ]
  },
  {
   "cell_type": "code",
   "execution_count": 31,
   "metadata": {},
   "outputs": [],
   "source": [
    "df[\"join_year\"] = df[\"Dateofjoining\"].dt.year\n",
    "df[\"join_month\"] = df[\"Dateofjoining\"].dt.month"
   ]
  },
  {
   "cell_type": "code",
   "execution_count": 32,
   "metadata": {},
   "outputs": [],
   "source": [
    "df.drop(columns=[\"LastWorkingDate\", \"Dateofjoining\", \"Driver_ID\"], inplace=True)"
   ]
  },
  {
   "cell_type": "code",
   "execution_count": 33,
   "metadata": {},
   "outputs": [],
   "source": [
    "df.to_excel(\"../data/data_feature_engineered.xlsx\", index=False)"
   ]
  }
 ],
 "metadata": {
  "kernelspec": {
   "display_name": "venv",
   "language": "python",
   "name": "python3"
  },
  "language_info": {
   "codemirror_mode": {
    "name": "ipython",
    "version": 3
   },
   "file_extension": ".py",
   "mimetype": "text/x-python",
   "name": "python",
   "nbconvert_exporter": "python",
   "pygments_lexer": "ipython3",
   "version": "3.11.0"
  }
 },
 "nbformat": 4,
 "nbformat_minor": 2
}
